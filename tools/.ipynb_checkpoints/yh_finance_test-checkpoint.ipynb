{
 "cells": [
  {
   "cell_type": "markdown",
   "metadata": {},
   "source": [
    "# Quick Yahoo Finance API Check"
   ]
  },
  {
   "cell_type": "code",
   "execution_count": 14,
   "metadata": {},
   "outputs": [],
   "source": [
    "import pandas as pd\n",
    "import numpy as np\n",
    "\n",
    "%matplotlib inline\n",
    "\n",
    "import warnings\n",
    "warnings.filterwarnings('ignore')\n",
    "\n",
    "#!pip install yfinance --upgrade --no-cache-dir\n",
    "import yfinance as yf"
   ]
  },
  {
   "cell_type": "code",
   "execution_count": 24,
   "metadata": {},
   "outputs": [],
   "source": [
    "# List of Tech Stocks\n",
    "list_of_stocks = [\"goog\", \"meta\"]\n",
    "\n",
    "def get_data(list_of_stocks):\n",
    "    obj = yf.download(list_of_stocks)\n",
    "    return obj"
   ]
  },
  {
   "cell_type": "code",
   "execution_count": 26,
   "metadata": {},
   "outputs": [
    {
     "name": "stdout",
     "output_type": "stream",
     "text": [
      "[*********************100%***********************]  2 of 2 completed\n"
     ]
    },
    {
     "data": {
      "text/html": [
       "<div>\n",
       "<style scoped>\n",
       "    .dataframe tbody tr th:only-of-type {\n",
       "        vertical-align: middle;\n",
       "    }\n",
       "\n",
       "    .dataframe tbody tr th {\n",
       "        vertical-align: top;\n",
       "    }\n",
       "\n",
       "    .dataframe thead tr th {\n",
       "        text-align: left;\n",
       "    }\n",
       "\n",
       "    .dataframe thead tr:last-of-type th {\n",
       "        text-align: right;\n",
       "    }\n",
       "</style>\n",
       "<table border=\"1\" class=\"dataframe\">\n",
       "  <thead>\n",
       "    <tr>\n",
       "      <th></th>\n",
       "      <th colspan=\"2\" halign=\"left\">Adj Close</th>\n",
       "      <th colspan=\"2\" halign=\"left\">Close</th>\n",
       "      <th colspan=\"2\" halign=\"left\">High</th>\n",
       "      <th colspan=\"2\" halign=\"left\">Low</th>\n",
       "      <th colspan=\"2\" halign=\"left\">Open</th>\n",
       "      <th colspan=\"2\" halign=\"left\">Volume</th>\n",
       "    </tr>\n",
       "    <tr>\n",
       "      <th></th>\n",
       "      <th>GOOG</th>\n",
       "      <th>META</th>\n",
       "      <th>GOOG</th>\n",
       "      <th>META</th>\n",
       "      <th>GOOG</th>\n",
       "      <th>META</th>\n",
       "      <th>GOOG</th>\n",
       "      <th>META</th>\n",
       "      <th>GOOG</th>\n",
       "      <th>META</th>\n",
       "      <th>GOOG</th>\n",
       "      <th>META</th>\n",
       "    </tr>\n",
       "    <tr>\n",
       "      <th>Date</th>\n",
       "      <th></th>\n",
       "      <th></th>\n",
       "      <th></th>\n",
       "      <th></th>\n",
       "      <th></th>\n",
       "      <th></th>\n",
       "      <th></th>\n",
       "      <th></th>\n",
       "      <th></th>\n",
       "      <th></th>\n",
       "      <th></th>\n",
       "      <th></th>\n",
       "    </tr>\n",
       "  </thead>\n",
       "  <tbody>\n",
       "    <tr>\n",
       "      <th>2004-08-19</th>\n",
       "      <td>2.499133</td>\n",
       "      <td>NaN</td>\n",
       "      <td>2.499133</td>\n",
       "      <td>NaN</td>\n",
       "      <td>2.591785</td>\n",
       "      <td>NaN</td>\n",
       "      <td>2.390042</td>\n",
       "      <td>NaN</td>\n",
       "      <td>2.490664</td>\n",
       "      <td>NaN</td>\n",
       "      <td>897427216</td>\n",
       "      <td>NaN</td>\n",
       "    </tr>\n",
       "    <tr>\n",
       "      <th>2004-08-20</th>\n",
       "      <td>2.697639</td>\n",
       "      <td>NaN</td>\n",
       "      <td>2.697639</td>\n",
       "      <td>NaN</td>\n",
       "      <td>2.716817</td>\n",
       "      <td>NaN</td>\n",
       "      <td>2.503118</td>\n",
       "      <td>NaN</td>\n",
       "      <td>2.515820</td>\n",
       "      <td>NaN</td>\n",
       "      <td>458857488</td>\n",
       "      <td>NaN</td>\n",
       "    </tr>\n",
       "    <tr>\n",
       "      <th>2004-08-23</th>\n",
       "      <td>2.724787</td>\n",
       "      <td>NaN</td>\n",
       "      <td>2.724787</td>\n",
       "      <td>NaN</td>\n",
       "      <td>2.826406</td>\n",
       "      <td>NaN</td>\n",
       "      <td>2.716070</td>\n",
       "      <td>NaN</td>\n",
       "      <td>2.758411</td>\n",
       "      <td>NaN</td>\n",
       "      <td>366857939</td>\n",
       "      <td>NaN</td>\n",
       "    </tr>\n",
       "    <tr>\n",
       "      <th>2004-08-24</th>\n",
       "      <td>2.611960</td>\n",
       "      <td>NaN</td>\n",
       "      <td>2.611960</td>\n",
       "      <td>NaN</td>\n",
       "      <td>2.779581</td>\n",
       "      <td>NaN</td>\n",
       "      <td>2.579581</td>\n",
       "      <td>NaN</td>\n",
       "      <td>2.770615</td>\n",
       "      <td>NaN</td>\n",
       "      <td>306396159</td>\n",
       "      <td>NaN</td>\n",
       "    </tr>\n",
       "    <tr>\n",
       "      <th>2004-08-25</th>\n",
       "      <td>2.640104</td>\n",
       "      <td>NaN</td>\n",
       "      <td>2.640104</td>\n",
       "      <td>NaN</td>\n",
       "      <td>2.689918</td>\n",
       "      <td>NaN</td>\n",
       "      <td>2.587302</td>\n",
       "      <td>NaN</td>\n",
       "      <td>2.614201</td>\n",
       "      <td>NaN</td>\n",
       "      <td>184645512</td>\n",
       "      <td>NaN</td>\n",
       "    </tr>\n",
       "  </tbody>\n",
       "</table>\n",
       "</div>"
      ],
      "text/plain": [
       "           Adj Close          Close           High            Low       \\\n",
       "                GOOG META      GOOG META      GOOG META      GOOG META   \n",
       "Date                                                                     \n",
       "2004-08-19  2.499133  NaN  2.499133  NaN  2.591785  NaN  2.390042  NaN   \n",
       "2004-08-20  2.697639  NaN  2.697639  NaN  2.716817  NaN  2.503118  NaN   \n",
       "2004-08-23  2.724787  NaN  2.724787  NaN  2.826406  NaN  2.716070  NaN   \n",
       "2004-08-24  2.611960  NaN  2.611960  NaN  2.779581  NaN  2.579581  NaN   \n",
       "2004-08-25  2.640104  NaN  2.640104  NaN  2.689918  NaN  2.587302  NaN   \n",
       "\n",
       "                Open          Volume       \n",
       "                GOOG META       GOOG META  \n",
       "Date                                       \n",
       "2004-08-19  2.490664  NaN  897427216  NaN  \n",
       "2004-08-20  2.515820  NaN  458857488  NaN  \n",
       "2004-08-23  2.758411  NaN  366857939  NaN  \n",
       "2004-08-24  2.770615  NaN  306396159  NaN  \n",
       "2004-08-25  2.614201  NaN  184645512  NaN  "
      ]
     },
     "execution_count": 26,
     "metadata": {},
     "output_type": "execute_result"
    }
   ],
   "source": [
    "data = get_data(list_of_stocks)\n",
    "data.head()"
   ]
  },
  {
   "cell_type": "code",
   "execution_count": 32,
   "metadata": {},
   "outputs": [
    {
     "data": {
      "text/plain": [
       "[<matplotlib.lines.Line2D at 0x20d32e662b0>,\n",
       " <matplotlib.lines.Line2D at 0x20d32f7e588>]"
      ]
     },
     "execution_count": 32,
     "metadata": {},
     "output_type": "execute_result"
    },
    {
     "data": {
      "image/png": "[encoded data removed]",
      "text/plain": [
       "<Figure size 432x288 with 1 Axes>"
      ]
     },
     "metadata": {
      "needs_background": "light"
     },
     "output_type": "display_data"
    }
   ],
   "source": [
    "import matplotlib.pyplot as plt\n",
    "\n",
    "plt.title(\"GOOG & META\")\n",
    "plt.plot(data[list(data.keys())[:2]])"
   ]
  },
  {
   "cell_type": "code",
   "execution_count": null,
   "metadata": {},
   "outputs": [],
   "source": []
  }
 ],
 "metadata": {
  "kernelspec": {
   "display_name": "Python 3",
   "language": "python",
   "name": "python3"
  },
  "language_info": {
   "codemirror_mode": {
    "name": "ipython",
    "version": 3
   },
   "file_extension": ".py",
   "mimetype": "text/x-python",
   "name": "python",
   "nbconvert_exporter": "python",
   "pygments_lexer": "ipython3",
   "version": "3.7.1"
  }
 },
 "nbformat": 4,
 "nbformat_minor": 2
}
